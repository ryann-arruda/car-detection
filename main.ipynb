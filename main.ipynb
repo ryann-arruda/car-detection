{
 "cells": [
  {
   "cell_type": "code",
   "execution_count": 1,
   "metadata": {},
   "outputs": [
    {
     "name": "stderr",
     "output_type": "stream",
     "text": [
      "c:\\Users\\Ryann\\Desktop\\Topicos em Processamento Digital de Images\\Projeto\\car-detection\\detect.py:9: FutureWarning: You are using `torch.load` with `weights_only=False` (the current default value), which uses the default pickle module implicitly. It is possible to construct malicious pickle data which will execute arbitrary code during unpickling (See https://github.com/pytorch/pytorch/blob/main/SECURITY.md#untrusted-models for more details). In a future release, the default value for `weights_only` will be flipped to `True`. This limits the functions that could be executed during unpickling. Arbitrary objects will no longer be allowed to be loaded via this mode unless they are explicitly allowlisted by the user via `torch.serialization.add_safe_globals`. We recommend you start setting `weights_only=True` for any use case where you don't have full control of the loaded file. Please open an issue on GitHub for any issues related to this experimental feature.\n",
      "  checkpoint = torch.load(checkpoint)\n"
     ]
    },
    {
     "name": "stdout",
     "output_type": "stream",
     "text": [
      "\n",
      "Loaded checkpoint from epoch 3.\n",
      "\n"
     ]
    }
   ],
   "source": [
    "import cv2 as cv\n",
    "import numpy as np\n",
    "from detect import detect\n",
    "from PIL import Image\n",
    "from utils import *"
   ]
  },
  {
   "cell_type": "markdown",
   "metadata": {},
   "source": [
    "## **Single Shot Multibox Detector**"
   ]
  },
  {
   "cell_type": "code",
   "execution_count": null,
   "metadata": {},
   "outputs": [],
   "source": [
    "train_test_split(os.getcwd() + '\\\\dataset')"
   ]
  },
  {
   "cell_type": "code",
   "execution_count": null,
   "metadata": {},
   "outputs": [],
   "source": [
    "!python create_data_lists.py"
   ]
  },
  {
   "cell_type": "markdown",
   "metadata": {},
   "source": [
    "### **Training**"
   ]
  },
  {
   "cell_type": "code",
   "execution_count": null,
   "metadata": {},
   "outputs": [],
   "source": [
    "!python train.py"
   ]
  },
  {
   "cell_type": "markdown",
   "metadata": {},
   "source": [
    "### **Evaluation**"
   ]
  },
  {
   "cell_type": "code",
   "execution_count": null,
   "metadata": {},
   "outputs": [],
   "source": [
    "!python eval.py"
   ]
  },
  {
   "cell_type": "markdown",
   "metadata": {},
   "source": [
    "### **Detection**"
   ]
  },
  {
   "cell_type": "code",
   "execution_count": 2,
   "metadata": {},
   "outputs": [],
   "source": [
    "path_video = 'dataset\\\\videos\\\\video08.mp4'"
   ]
  },
  {
   "cell_type": "code",
   "execution_count": 3,
   "metadata": {},
   "outputs": [],
   "source": [
    "video_name = path_video.split('\\\\')[-1].split('.')[0]"
   ]
  },
  {
   "cell_type": "code",
   "execution_count": 4,
   "metadata": {},
   "outputs": [],
   "source": [
    "frame_count = 0"
   ]
  },
  {
   "cell_type": "code",
   "execution_count": 5,
   "metadata": {},
   "outputs": [
    {
     "name": "stderr",
     "output_type": "stream",
     "text": [
      "c:\\Users\\Ryann\\Desktop\\Topicos em Processamento Digital de Images\\Projeto\\car-detection\\model.py:501: UserWarning: indexing with dtype torch.uint8 is now deprecated, please use a dtype torch.bool instead. (Triggered internally at C:\\actions-runner\\_work\\pytorch\\pytorch\\builder\\windows\\pytorch\\aten\\src\\ATen/native/IndexingUtils.h:28.)\n",
      "  image_boxes.append(class_decoded_locs[1 - suppress])\n",
      "c:\\Users\\Ryann\\Desktop\\Topicos em Processamento Digital de Images\\Projeto\\car-detection\\model.py:503: UserWarning: indexing with dtype torch.uint8 is now deprecated, please use a dtype torch.bool instead. (Triggered internally at C:\\actions-runner\\_work\\pytorch\\pytorch\\builder\\windows\\pytorch\\aten\\src\\ATen/native/IndexingUtils.h:28.)\n",
      "  image_scores.append(class_scores[1 - suppress])\n"
     ]
    }
   ],
   "source": [
    "cap = cv.VideoCapture(path_video)\n",
    "\n",
    "create_results_folder('ssd',video_name)\n",
    "\n",
    "while(True):\n",
    "    ret, frame = cap.read()\n",
    "\n",
    "    frame = cv.cvtColor(frame, cv.COLOR_BGR2RGB)\n",
    "\n",
    "    if not ret: \n",
    "        break\n",
    "\n",
    "    frame = Image.fromarray(frame)\n",
    "    \n",
    "    frame = detect(frame, min_score=0.2, max_overlap=0.5, top_k=200)\n",
    "\n",
    "    frame = cv.cvtColor(np.array(frame), cv.COLOR_RGB2BGR)\n",
    "\n",
    "    cv.imwrite(f'results\\\\ssd\\\\{video_name}\\\\frame{frame_count}.png', frame)\n",
    "    frame_count += 1\n",
    "\n",
    "    cv.imshow('Frame', frame)\n",
    "\n",
    "    if cv.waitKey(60) & 0xff == 27:\n",
    "        break\n",
    "\n",
    "cap.release()\n",
    "cv.destroyAllWindows()"
   ]
  },
  {
   "cell_type": "markdown",
   "metadata": {},
   "source": [
    "## **MOG2**"
   ]
  },
  {
   "cell_type": "code",
   "execution_count": 11,
   "metadata": {},
   "outputs": [],
   "source": [
    "path_video = 'dataset\\\\videos\\\\video08.mp4'"
   ]
  },
  {
   "cell_type": "code",
   "execution_count": 12,
   "metadata": {},
   "outputs": [],
   "source": [
    "video_name = path_video.split('\\\\')[-1].split('.')[0]"
   ]
  },
  {
   "cell_type": "code",
   "execution_count": 13,
   "metadata": {},
   "outputs": [],
   "source": [
    "frame_count = 0"
   ]
  },
  {
   "cell_type": "code",
   "execution_count": 14,
   "metadata": {},
   "outputs": [],
   "source": [
    "mog2 = cv.createBackgroundSubtractorMOG2(varThreshold=100, detectShadows=False)"
   ]
  },
  {
   "cell_type": "code",
   "execution_count": 15,
   "metadata": {},
   "outputs": [],
   "source": [
    "cap = cv.VideoCapture(path_video)\n",
    "\n",
    "create_results_folder('mog2',video_name)\n",
    "\n",
    "while(True):\n",
    "    ret, frame = cap.read()\n",
    "\n",
    "    if not ret: \n",
    "        break\n",
    "    \n",
    "    fgmask = mog2.apply(frame)\n",
    "\n",
    "    fgmask = cv.erode(fgmask, np.ones((5,5), np.uint8))\n",
    "    fgmask = cv.dilate(fgmask, np.ones((41,41), np.uint8))\n",
    "    \n",
    "    fgmask = cv.morphologyEx(fgmask, cv.MORPH_CLOSE, np.ones((45, 45), np.uint8))\n",
    "\n",
    "    _, binary_mask = cv.threshold(fgmask, 1, 255, cv.THRESH_BINARY)\n",
    "\n",
    "    contours, _ = cv.findContours(binary_mask, cv.RETR_EXTERNAL, cv.CHAIN_APPROX_SIMPLE)\n",
    "\n",
    "    contour_sort = sorted(contours, key=cv.contourArea, reverse=True)\n",
    "\n",
    "    for i, contour in enumerate(contours):\n",
    "        x, y, w, h = cv.boundingRect(contour)\n",
    "\n",
    "        area = cv.contourArea(contour)\n",
    "\n",
    "        detected_width_range = 50 < (x + w) - x < 1000\n",
    "        detected_height_range = (100 < (y + h) - y < 700)\n",
    "        if (area >= 6000 and area <= 150000) and detected_height_range and detected_height_range:\n",
    "            cv.rectangle(frame, (x,y), (x + w, y + h), (0,0,255), 2)\n",
    "\n",
    "            cv.putText(frame, f\"Carro\", (x, y - 10), cv.FONT_HERSHEY_SIMPLEX, 0.5, (0,0,255), 2)\n",
    "    \n",
    "    cv.imwrite(f'results\\\\mog2\\\\{video_name}\\\\frame{frame_count}.png', frame)\n",
    "    frame_count += 1\n",
    "\n",
    "    cv.imshow('Frame', frame)\n",
    "\n",
    "    if cv.waitKey(60) & 0xff == 27:\n",
    "        break\n",
    "\n",
    "cap.release()\n",
    "cv.destroyAllWindows()"
   ]
  },
  {
   "cell_type": "code",
   "execution_count": null,
   "metadata": {},
   "outputs": [],
   "source": []
  }
 ],
 "metadata": {
  "kernelspec": {
   "display_name": "Python 3",
   "language": "python",
   "name": "python3"
  },
  "language_info": {
   "codemirror_mode": {
    "name": "ipython",
    "version": 3
   },
   "file_extension": ".py",
   "mimetype": "text/x-python",
   "name": "python",
   "nbconvert_exporter": "python",
   "pygments_lexer": "ipython3",
   "version": "3.12.6"
  }
 },
 "nbformat": 4,
 "nbformat_minor": 2
}
