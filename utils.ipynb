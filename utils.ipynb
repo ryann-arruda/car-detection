{
 "cells": [
  {
   "cell_type": "code",
   "execution_count": 9,
   "metadata": {},
   "outputs": [],
   "source": [
    "import os\n",
    "from random import shuffle"
   ]
  },
  {
   "cell_type": "code",
   "execution_count": 12,
   "metadata": {},
   "outputs": [],
   "source": [
    "def train_test_split(dataset_path, train=0.7):\n",
    "    image_ids = []\n",
    "\n",
    "    for image in os.listdir(dataset_path + '\\\\images'):\n",
    "        image_ids.append(image.split('.')[0])\n",
    "    \n",
    "    shuffle(image_ids)\n",
    "\n",
    "    training_set_size = int(len(image_ids) * train)\n",
    "\n",
    "    train_ids = image_ids[:training_set_size]\n",
    "    test_ids = image_ids[training_set_size:]\n",
    "\n",
    "    os.makedirs(dataset_path + '\\\\ImageSets\\\\', exist_ok=True)\n",
    "\n",
    "    with open(dataset_path + '\\\\ImageSets\\\\' + 'train.txt', 'w') as f:\n",
    "        for img_id in train_ids:\n",
    "            f.write(img_id + '\\n')\n",
    "    \n",
    "    with open(dataset_path + '\\\\ImageSets\\\\' + 'test.txt', 'w') as f:\n",
    "        for img_id in test_ids:\n",
    "            f.write(img_id + '\\n')\n",
    "        "
   ]
  },
  {
   "cell_type": "code",
   "execution_count": 13,
   "metadata": {},
   "outputs": [],
   "source": [
    "train_test_split(os.getcwd() + '\\\\dataset')"
   ]
  },
  {
   "cell_type": "code",
   "execution_count": null,
   "metadata": {},
   "outputs": [],
   "source": []
  }
 ],
 "metadata": {
  "kernelspec": {
   "display_name": "Python 3",
   "language": "python",
   "name": "python3"
  },
  "language_info": {
   "codemirror_mode": {
    "name": "ipython",
    "version": 3
   },
   "file_extension": ".py",
   "mimetype": "text/x-python",
   "name": "python",
   "nbconvert_exporter": "python",
   "pygments_lexer": "ipython3",
   "version": "3.12.6"
  }
 },
 "nbformat": 4,
 "nbformat_minor": 2
}
