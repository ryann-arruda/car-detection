{
 "cells": [
  {
   "cell_type": "code",
   "execution_count": 38,
   "metadata": {},
   "outputs": [],
   "source": [
    "import os\n",
    "import cv2 as cv\n",
    "import numpy as np\n",
    "from pathlib import Path"
   ]
  },
  {
   "cell_type": "markdown",
   "metadata": {},
   "source": [
    "## **Rename Data Files**"
   ]
  },
  {
   "cell_type": "code",
   "execution_count": 28,
   "metadata": {},
   "outputs": [],
   "source": [
    "def rename_data_files(data_folder_name, new_name_prefix):\n",
    "    data_folder_path = os.getcwd() + f'\\\\{data_folder_name}'\n",
    "\n",
    "    for index, filename in enumerate(os.listdir(data_folder_path)):\n",
    "       extension = filename.split('.')[1]\n",
    "       \n",
    "       os.rename(data_folder_path + f'\\\\{filename}', data_folder_path + f'\\\\{new_name_prefix}{index}.{extension}')"
   ]
  },
  {
   "cell_type": "code",
   "execution_count": 29,
   "metadata": {},
   "outputs": [],
   "source": [
    "rename_data_files('dataset')"
   ]
  },
  {
   "cell_type": "markdown",
   "metadata": {},
   "source": [
    "## **Data Augmentation Functions**"
   ]
  },
  {
   "cell_type": "code",
   "execution_count": 50,
   "metadata": {},
   "outputs": [],
   "source": [
    "def rotate(img_path, angle):\n",
    "    img = cv.imread(img_path)\n",
    "    img = cv.cvtColor(img, cv.COLOR_BGR2RGB)\n",
    "\n",
    "    img_arr = np.array(img)\n",
    "\n",
    "    (h,w) = img.shape[:2]\n",
    "\n",
    "    center = (w // 2, h // 2)\n",
    "\n",
    "    rotation_matrix = cv.getRotationMatrix2D(center, angle, 1.0)\n",
    "\n",
    "    # Horizontal rotation component\n",
    "    cos = np.abs(rotation_matrix[0, 0]) \n",
    "    sin = np.abs(rotation_matrix[0, 1]) \n",
    "\n",
    "    new_h = int((h * cos) + (w * sin))\n",
    "    new_w = int((h * sin) + (w * cos))\n",
    "\n",
    "    # Displacement Update\n",
    "    rotation_matrix[0, 2] += (new_w / 2) - center[0]\n",
    "    rotation_matrix[1, 2] += (new_h / 2) - center[1]\n",
    "\n",
    "    rotated_img = cv.warpAffine(img_arr, rotation_matrix, (new_h,new_w), borderValue=(255,255,255))\n",
    "\n",
    "    rotated_img = cv.cvtColor(rotated_img, cv.COLOR_BGR2RGB)\n",
    "\n",
    "    # Generating the full path to the modified image\n",
    "    full_path = img_path.split('\\\\')\n",
    "    full_path[-1] = full_path[-1].replace('.', 'rot.')\n",
    "    full_path = Path(full_path[0] + '\\\\', *full_path[1:])\n",
    "\n",
    "    cv.imwrite(full_path, rotated_img)"
   ]
  },
  {
   "cell_type": "code",
   "execution_count": 51,
   "metadata": {},
   "outputs": [],
   "source": [
    "def negative(img_path):\n",
    "    img = cv.imread(img_path)\n",
    "    img = cv.cvtColor(img, cv.COLOR_BGR2RGB)\n",
    "\n",
    "    img_arr = np.array(img)\n",
    "    \n",
    "    img_arr[:,:,0] = 255 - img_arr[:,:,0]\n",
    "    img_arr[:,:,1] = 255 - img_arr[:,:,1]\n",
    "    img_arr[:,:,2] = 255 - img_arr[:,:,2]\n",
    "\n",
    "    # Generating the full path to the modified image\n",
    "    full_path = img_path.split('\\\\')\n",
    "    full_path[-1] = full_path[-1].replace('.', 'neg.')\n",
    "    full_path = Path(full_path[0] + '\\\\', *full_path[1:])\n",
    "\n",
    "    cv.imwrite(full_path, img_arr)"
   ]
  },
  {
   "cell_type": "code",
   "execution_count": 52,
   "metadata": {},
   "outputs": [],
   "source": [
    "def grayscale(img_path):\n",
    "    img = cv.imread(img_path)\n",
    "    img = cv.cvtColor(img, cv.COLOR_BGR2RGB)\n",
    "\n",
    "    img_arr = np.array(img)\n",
    "    \n",
    "    img_arr[:,:,1] = img_arr[:,:,0]\n",
    "    img_arr[:,:,2] = img_arr[:,:,0]\n",
    "\n",
    "    # Generating the full path to the modified image\n",
    "    full_path = img_path.split('\\\\')\n",
    "    full_path[-1] = full_path[-1].replace('.', 'gray.')\n",
    "    full_path = Path(full_path[0] + '\\\\', *full_path[1:])\n",
    "\n",
    "    cv.imwrite(full_path, img_arr)"
   ]
  },
  {
   "cell_type": "code",
   "execution_count": 53,
   "metadata": {},
   "outputs": [],
   "source": [
    "def horizontal_flip(img_path):\n",
    "    img = cv.imread(img_path)\n",
    "    img = cv.cvtColor(img, cv.COLOR_BGR2RGB)\n",
    "\n",
    "    img_arr = np.array(img)\n",
    "    \n",
    "    inverted_image = cv.flip(img_arr, 1)\n",
    "\n",
    "    inverted_image = cv.cvtColor(inverted_image, cv.COLOR_BGR2RGB)\n",
    "\n",
    "    # Generating the full path to the modified image\n",
    "    full_path = img_path.split('\\\\')\n",
    "    full_path[-1] = full_path[-1].replace('.', 'flip.')\n",
    "    full_path = Path(full_path[0] + '\\\\', *full_path[1:])\n",
    "\n",
    "    cv.imwrite(full_path, inverted_image)"
   ]
  },
  {
   "cell_type": "markdown",
   "metadata": {},
   "source": [
    "## **Preprocessing Pipeline**"
   ]
  },
  {
   "cell_type": "code",
   "execution_count": 54,
   "metadata": {},
   "outputs": [],
   "source": [
    "dataset_path = os.getcwd() + '\\\\dataset'"
   ]
  },
  {
   "cell_type": "code",
   "execution_count": 57,
   "metadata": {},
   "outputs": [],
   "source": [
    "for i in os.listdir(dataset_path):\n",
    "    rotate(dataset_path + f'\\\\{i}', 45)\n",
    "    negative(dataset_path + f'\\\\{i}')\n",
    "    grayscale(dataset_path + f'\\\\{i}')\n",
    "    horizontal_flip(dataset_path + f'\\\\{i}')"
   ]
  },
  {
   "cell_type": "code",
   "execution_count": null,
   "metadata": {},
   "outputs": [],
   "source": []
  }
 ],
 "metadata": {
  "kernelspec": {
   "display_name": "Python 3",
   "language": "python",
   "name": "python3"
  },
  "language_info": {
   "codemirror_mode": {
    "name": "ipython",
    "version": 3
   },
   "file_extension": ".py",
   "mimetype": "text/x-python",
   "name": "python",
   "nbconvert_exporter": "python",
   "pygments_lexer": "ipython3",
   "version": "3.12.6"
  }
 },
 "nbformat": 4,
 "nbformat_minor": 2
}
