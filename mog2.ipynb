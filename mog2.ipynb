{
 "cells": [
  {
   "cell_type": "code",
   "execution_count": 23,
   "metadata": {},
   "outputs": [],
   "source": [
    "import cv2 as cv\n",
    "import numpy as np"
   ]
  },
  {
   "cell_type": "code",
   "execution_count": 315,
   "metadata": {},
   "outputs": [],
   "source": [
    "cap = cv.VideoCapture('dataset\\\\videos\\\\video08.mp4')"
   ]
  },
  {
   "cell_type": "code",
   "execution_count": 316,
   "metadata": {},
   "outputs": [],
   "source": [
    "mog2 = cv.createBackgroundSubtractorMOG2(varThreshold=100, detectShadows=False)"
   ]
  },
  {
   "cell_type": "code",
   "execution_count": 317,
   "metadata": {},
   "outputs": [],
   "source": [
    "while(True):\n",
    "    ret, frame = cap.read()\n",
    "\n",
    "    if not ret: \n",
    "        break\n",
    "    \n",
    "    fgmask = mog2.apply(frame)\n",
    "\n",
    "    fgmask = cv.erode(fgmask, np.ones((5,5), np.uint8))\n",
    "    fgmask = cv.dilate(fgmask, np.ones((41,41), np.uint8))\n",
    "    \n",
    "    fgmask = cv.morphologyEx(fgmask, cv.MORPH_CLOSE, np.ones((45, 45), np.uint8))\n",
    "\n",
    "    _, binary_mask = cv.threshold(fgmask, 1, 255, cv.THRESH_BINARY)\n",
    "\n",
    "    contours, _ = cv.findContours(binary_mask, cv.RETR_EXTERNAL, cv.CHAIN_APPROX_SIMPLE)\n",
    "\n",
    "    contour_sort = sorted(contours, key=cv.contourArea, reverse=True)\n",
    "\n",
    "    for i, contour in enumerate(contours):\n",
    "        x, y, w, h = cv.boundingRect(contour)\n",
    "\n",
    "        area = cv.contourArea(contour)\n",
    "\n",
    "        detected_width_range = 50 < (x + w) - x < 1000\n",
    "        detected_height_range = (100 < (y + h) - y < 700)\n",
    "        if (area >= 6000 and area <= 150000) and detected_height_range and detected_height_range:\n",
    "            cv.rectangle(frame, (x,y), (x + w, y + h), (0,0,255), 2)\n",
    "\n",
    "            cv.putText(frame, f\"Carro\", (x, y - 10), cv.FONT_HERSHEY_SIMPLEX, 0.5, (0,0,255), 2)\n",
    "    \n",
    "    cv.imshow('frame', frame)\n",
    "\n",
    "    if cv.waitKey(60) & 0xff == 27:\n",
    "        break\n",
    "\n",
    "cap.release()\n",
    "cv.destroyAllWindows()"
   ]
  }
 ],
 "metadata": {
  "kernelspec": {
   "display_name": "Python 3",
   "language": "python",
   "name": "python3"
  },
  "language_info": {
   "codemirror_mode": {
    "name": "ipython",
    "version": 3
   },
   "file_extension": ".py",
   "mimetype": "text/x-python",
   "name": "python",
   "nbconvert_exporter": "python",
   "pygments_lexer": "ipython3",
   "version": "3.12.6"
  }
 },
 "nbformat": 4,
 "nbformat_minor": 2
}
